{
  "cells":[
    {
      "cell_type":"markdown",
      "source":[
        "- **Count of people from each race:**\n",
        "\n",
        "    White - 27816\n",
        "\n",
        "    Black - 3124\n",
        "\n",
        "    Asian-Pac-Islander - 1039\n",
        "\n",
        "    Amer-Indian-Eskimo - 311\n",
        "\n",
        "    Other - 271\n",
        "\n",
        "- **Average age of men** : 39.4 \n",
        "- **Percentage of people who have a Bachelor's degree** : 16.4%\n",
        "- **Percentage of people with advanced education (Bachelors, Masters, or Doctorate) make more than 50K** : 46.5%\n",
        "- **Percentage of people without advanced education make more than 50K** : 17.4%\n",
        "- **Minimum number of hours a person works per week** : 1\n",
        "- **Percentage of the people who work the minimum number of hours per week have a salary of more than 50K** : 10% \n",
        "- **Country with the highest percentage of people that earn >50K and its percentage** : Iran - 41.9%\n",
        "- **Most popular occupation for those who earn >50K in India** : Prof-Speciality"
      ],
      "attachments":{
        
      },
      "metadata":{
        "datalore":{
          "sheet_delimiter":false
        }
      }
    },
    {
      "cell_type":"code",
      "source":[
        "import pandas as pd\n",
        "%matplotlib inline\n",
        "import matplotlib.pyplot as plt\n",
        "import seaborn as sb"
      ],
      "execution_count":1,
      "outputs":[
        
      ],
      "metadata":{
        "datalore":{
          "sheet_delimiter":false
        }
      }
    },
    {
      "cell_type":"code",
      "source":[
        "data = pd.read_csv(\"adult.data.csv\")\n",
        "data.head()"
      ],
      "execution_count":2,
      "outputs":[
        {
          "data":{
            "text\/html":[
              "<div>\n",
              "<style scoped>\n",
              "    .dataframe tbody tr th:only-of-type {\n",
              "        vertical-align: middle;\n",
              "    }\n",
              "\n",
              "    .dataframe tbody tr th {\n",
              "        vertical-align: top;\n",
              "    }\n",
              "\n",
              "    .dataframe thead th {\n",
              "        text-align: right;\n",
              "    }\n",
              "<\/style>\n",
              "<table border=\"1\" class=\"dataframe\">\n",
              "  <thead>\n",
              "    <tr style=\"text-align: right;\">\n",
              "      <th><\/th>\n",
              "      <th>age<\/th>\n",
              "      <th>workclass<\/th>\n",
              "      <th>fnlwgt<\/th>\n",
              "      <th>education<\/th>\n",
              "      <th>education-num<\/th>\n",
              "      <th>marital-status<\/th>\n",
              "      <th>occupation<\/th>\n",
              "      <th>relationship<\/th>\n",
              "      <th>race<\/th>\n",
              "      <th>sex<\/th>\n",
              "      <th>capital-gain<\/th>\n",
              "      <th>capital-loss<\/th>\n",
              "      <th>hours-per-week<\/th>\n",
              "      <th>native-country<\/th>\n",
              "      <th>salary<\/th>\n",
              "    <\/tr>\n",
              "  <\/thead>\n",
              "  <tbody>\n",
              "    <tr>\n",
              "      <th>0<\/th>\n",
              "      <td>39<\/td>\n",
              "      <td>State-gov<\/td>\n",
              "      <td>77516<\/td>\n",
              "      <td>Bachelors<\/td>\n",
              "      <td>13<\/td>\n",
              "      <td>Never-married<\/td>\n",
              "      <td>Adm-clerical<\/td>\n",
              "      <td>Not-in-family<\/td>\n",
              "      <td>White<\/td>\n",
              "      <td>Male<\/td>\n",
              "      <td>2174<\/td>\n",
              "      <td>0<\/td>\n",
              "      <td>40<\/td>\n",
              "      <td>United-States<\/td>\n",
              "      <td>&lt;=50K<\/td>\n",
              "    <\/tr>\n",
              "    <tr>\n",
              "      <th>1<\/th>\n",
              "      <td>50<\/td>\n",
              "      <td>Self-emp-not-inc<\/td>\n",
              "      <td>83311<\/td>\n",
              "      <td>Bachelors<\/td>\n",
              "      <td>13<\/td>\n",
              "      <td>Married-civ-spouse<\/td>\n",
              "      <td>Exec-managerial<\/td>\n",
              "      <td>Husband<\/td>\n",
              "      <td>White<\/td>\n",
              "      <td>Male<\/td>\n",
              "      <td>0<\/td>\n",
              "      <td>0<\/td>\n",
              "      <td>13<\/td>\n",
              "      <td>United-States<\/td>\n",
              "      <td>&lt;=50K<\/td>\n",
              "    <\/tr>\n",
              "    <tr>\n",
              "      <th>2<\/th>\n",
              "      <td>38<\/td>\n",
              "      <td>Private<\/td>\n",
              "      <td>215646<\/td>\n",
              "      <td>HS-grad<\/td>\n",
              "      <td>9<\/td>\n",
              "      <td>Divorced<\/td>\n",
              "      <td>Handlers-cleaners<\/td>\n",
              "      <td>Not-in-family<\/td>\n",
              "      <td>White<\/td>\n",
              "      <td>Male<\/td>\n",
              "      <td>0<\/td>\n",
              "      <td>0<\/td>\n",
              "      <td>40<\/td>\n",
              "      <td>United-States<\/td>\n",
              "      <td>&lt;=50K<\/td>\n",
              "    <\/tr>\n",
              "    <tr>\n",
              "      <th>3<\/th>\n",
              "      <td>53<\/td>\n",
              "      <td>Private<\/td>\n",
              "      <td>234721<\/td>\n",
              "      <td>11th<\/td>\n",
              "      <td>7<\/td>\n",
              "      <td>Married-civ-spouse<\/td>\n",
              "      <td>Handlers-cleaners<\/td>\n",
              "      <td>Husband<\/td>\n",
              "      <td>Black<\/td>\n",
              "      <td>Male<\/td>\n",
              "      <td>0<\/td>\n",
              "      <td>0<\/td>\n",
              "      <td>40<\/td>\n",
              "      <td>United-States<\/td>\n",
              "      <td>&lt;=50K<\/td>\n",
              "    <\/tr>\n",
              "    <tr>\n",
              "      <th>4<\/th>\n",
              "      <td>28<\/td>\n",
              "      <td>Private<\/td>\n",
              "      <td>338409<\/td>\n",
              "      <td>Bachelors<\/td>\n",
              "      <td>13<\/td>\n",
              "      <td>Married-civ-spouse<\/td>\n",
              "      <td>Prof-specialty<\/td>\n",
              "      <td>Wife<\/td>\n",
              "      <td>Black<\/td>\n",
              "      <td>Female<\/td>\n",
              "      <td>0<\/td>\n",
              "      <td>0<\/td>\n",
              "      <td>40<\/td>\n",
              "      <td>Cuba<\/td>\n",
              "      <td>&lt;=50K<\/td>\n",
              "    <\/tr>\n",
              "  <\/tbody>\n",
              "<\/table>\n",
              "<\/div>"
            ]
          },
          "metadata":{
            
          },
          "output_type":"display_data"
        }
      ],
      "metadata":{
        "datalore":{
          "sheet_delimiter":false
        }
      }
    },
    {
      "cell_type":"code",
      "source":[
        "data.info()"
      ],
      "execution_count":3,
      "outputs":[
        {
          "name":"stdout",
          "text":[
            "<class 'pandas.core.frame.DataFrame'>\n",
            "RangeIndex: 32561 entries, 0 to 32560\n",
            "Data columns (total 15 columns):\n",
            " #   Column          Non-Null Count  Dtype \n",
            "---  ------          --------------  ----- \n",
            " 0   age             32561 non-null  int64 \n",
            " 1   workclass       32561 non-null  object\n",
            " 2   fnlwgt          32561 non-null  int64 \n",
            " 3   education       32561 non-null  object\n",
            " 4   education-num   32561 non-null  int64 \n",
            " 5   marital-status  32561 non-null  object\n",
            " 6   occupation      32561 non-null  object\n",
            " 7   relationship    32561 non-null  object\n",
            " 8   race            32561 non-null  object\n",
            " 9   sex             32561 non-null  object\n",
            " 10  capital-gain    32561 non-null  int64 \n",
            " 11  capital-loss    32561 non-null  int64 \n",
            " 12  hours-per-week  32561 non-null  int64 \n",
            " 13  native-country  32561 non-null  object\n",
            " 14  salary          32561 non-null  object\n",
            "dtypes: int64(6), object(9)\n",
            "memory usage: 3.7+ MB\n"
          ],
          "output_type":"stream"
        }
      ],
      "metadata":{
        "datalore":{
          "sheet_delimiter":false
        }
      }
    },
    {
      "cell_type":"code",
      "source":[
        "data.describe()"
      ],
      "execution_count":4,
      "outputs":[
        {
          "data":{
            "text\/html":[
              "<div>\n",
              "<style scoped>\n",
              "    .dataframe tbody tr th:only-of-type {\n",
              "        vertical-align: middle;\n",
              "    }\n",
              "\n",
              "    .dataframe tbody tr th {\n",
              "        vertical-align: top;\n",
              "    }\n",
              "\n",
              "    .dataframe thead th {\n",
              "        text-align: right;\n",
              "    }\n",
              "<\/style>\n",
              "<table border=\"1\" class=\"dataframe\">\n",
              "  <thead>\n",
              "    <tr style=\"text-align: right;\">\n",
              "      <th><\/th>\n",
              "      <th>age<\/th>\n",
              "      <th>fnlwgt<\/th>\n",
              "      <th>education-num<\/th>\n",
              "      <th>capital-gain<\/th>\n",
              "      <th>capital-loss<\/th>\n",
              "      <th>hours-per-week<\/th>\n",
              "    <\/tr>\n",
              "  <\/thead>\n",
              "  <tbody>\n",
              "    <tr>\n",
              "      <th>count<\/th>\n",
              "      <td>32561.000000<\/td>\n",
              "      <td>3.256100e+04<\/td>\n",
              "      <td>32561.000000<\/td>\n",
              "      <td>32561.000000<\/td>\n",
              "      <td>32561.000000<\/td>\n",
              "      <td>32561.000000<\/td>\n",
              "    <\/tr>\n",
              "    <tr>\n",
              "      <th>mean<\/th>\n",
              "      <td>38.581647<\/td>\n",
              "      <td>1.897784e+05<\/td>\n",
              "      <td>10.080679<\/td>\n",
              "      <td>1077.648844<\/td>\n",
              "      <td>87.303830<\/td>\n",
              "      <td>40.437456<\/td>\n",
              "    <\/tr>\n",
              "    <tr>\n",
              "      <th>std<\/th>\n",
              "      <td>13.640433<\/td>\n",
              "      <td>1.055500e+05<\/td>\n",
              "      <td>2.572720<\/td>\n",
              "      <td>7385.292085<\/td>\n",
              "      <td>402.960219<\/td>\n",
              "      <td>12.347429<\/td>\n",
              "    <\/tr>\n",
              "    <tr>\n",
              "      <th>min<\/th>\n",
              "      <td>17.000000<\/td>\n",
              "      <td>1.228500e+04<\/td>\n",
              "      <td>1.000000<\/td>\n",
              "      <td>0.000000<\/td>\n",
              "      <td>0.000000<\/td>\n",
              "      <td>1.000000<\/td>\n",
              "    <\/tr>\n",
              "    <tr>\n",
              "      <th>25%<\/th>\n",
              "      <td>28.000000<\/td>\n",
              "      <td>1.178270e+05<\/td>\n",
              "      <td>9.000000<\/td>\n",
              "      <td>0.000000<\/td>\n",
              "      <td>0.000000<\/td>\n",
              "      <td>40.000000<\/td>\n",
              "    <\/tr>\n",
              "    <tr>\n",
              "      <th>50%<\/th>\n",
              "      <td>37.000000<\/td>\n",
              "      <td>1.783560e+05<\/td>\n",
              "      <td>10.000000<\/td>\n",
              "      <td>0.000000<\/td>\n",
              "      <td>0.000000<\/td>\n",
              "      <td>40.000000<\/td>\n",
              "    <\/tr>\n",
              "    <tr>\n",
              "      <th>75%<\/th>\n",
              "      <td>48.000000<\/td>\n",
              "      <td>2.370510e+05<\/td>\n",
              "      <td>12.000000<\/td>\n",
              "      <td>0.000000<\/td>\n",
              "      <td>0.000000<\/td>\n",
              "      <td>45.000000<\/td>\n",
              "    <\/tr>\n",
              "    <tr>\n",
              "      <th>max<\/th>\n",
              "      <td>90.000000<\/td>\n",
              "      <td>1.484705e+06<\/td>\n",
              "      <td>16.000000<\/td>\n",
              "      <td>99999.000000<\/td>\n",
              "      <td>4356.000000<\/td>\n",
              "      <td>99.000000<\/td>\n",
              "    <\/tr>\n",
              "  <\/tbody>\n",
              "<\/table>\n",
              "<\/div>"
            ]
          },
          "metadata":{
            
          },
          "output_type":"display_data"
        }
      ],
      "metadata":{
        "datalore":{
          "sheet_delimiter":false
        }
      }
    },
    {
      "cell_type":"markdown",
      "source":[
        "## Count of people of each race"
      ],
      "attachments":{
        
      },
      "metadata":{
        "datalore":{
          "sheet_delimiter":false
        }
      }
    },
    {
      "cell_type":"code",
      "source":[
        "race_count = data[\"race\"].value_counts()\n",
        "race_count"
      ],
      "execution_count":5,
      "outputs":[
        {
          "data":{
            "text\/html":[
              
            ]
          },
          "metadata":{
            
          },
          "output_type":"display_data"
        }
      ],
      "metadata":{
        "datalore":{
          "sheet_delimiter":false
        }
      }
    },
    {
      "cell_type":"code",
      "source":[
        "race_count.plot(kind=\"bar\", figsize=(12, 6), title=\"Race Count\");"
      ],
      "execution_count":6,
      "outputs":[
        {
          "data":{
            "image\/png":"[encoded data removed]"
          },
          "metadata":{
            "image\/png":{
              
            }
          },
          "output_type":"display_data"
        }
      ],
      "metadata":{
        "datalore":{
          "sheet_delimiter":false
        }
      }
    },
    {
      "cell_type":"markdown",
      "source":[
        "## Average age of men"
      ],
      "attachments":{
        
      },
      "metadata":{
        "datalore":{
          "sheet_delimiter":false
        }
      }
    },
    {
      "cell_type":"code",
      "source":[
        "men_avg_age = data[data[\"sex\"] == \"Male\"].age.mean()\n",
        "round(men_avg_age, 1)"
      ],
      "execution_count":7,
      "outputs":[
        {
          "data":{
            "text\/plain":[
              "39.4"
            ]
          },
          "metadata":{
            
          },
          "output_type":"display_data"
        }
      ],
      "metadata":{
        "datalore":{
          "sheet_delimiter":false
        }
      }
    },
    {
      "cell_type":"markdown",
      "source":[
        "## People with Bachelor's degree"
      ],
      "attachments":{
        
      },
      "metadata":{
        "datalore":{
          "sheet_delimiter":false
        }
      }
    },
    {
      "cell_type":"code",
      "source":[
        "education_count = data[\"education\"].value_counts(normalize=True) * 100\n",
        "education_count.plot(kind=\"bar\", figsize=(12,6), title=\"Percentage of people's education\");"
      ],
      "execution_count":8,
      "outputs":[
        {
          "data":{
            "image\/png":"[encoded data removed]"
          },
          "metadata":{
            "image\/png":{
              
            }
          },
          "output_type":"display_data"
        }
      ],
      "metadata":{
        "datalore":{
          "sheet_delimiter":false
        }
      }
    },
    {
      "cell_type":"code",
      "source":[
        "bachelors_percentage = round(education_count[\"Bachelors\"], 1)\n",
        "bachelors_percentage"
      ],
      "execution_count":9,
      "outputs":[
        {
          "data":{
            "text\/plain":[
              "16.4"
            ]
          },
          "metadata":{
            
          },
          "output_type":"display_data"
        }
      ],
      "metadata":{
        "datalore":{
          "sheet_delimiter":false
        }
      }
    },
    {
      "cell_type":"markdown",
      "source":[
        "## Percentage of people with advance education with salary more than 50K"
      ],
      "attachments":{
        
      },
      "metadata":{
        "datalore":{
          "sheet_delimiter":false
        }
      }
    },
    {
      "cell_type":"code",
      "source":[
        "higher_education = [\"Bachelors\", \"Masters\", \"Doctorate\"]\n",
        "\n",
        "higher_ed_percentage = round(data[data[\"education\"].isin(higher_education)][\"salary\"].value_counts(normalize=True)[\">50K\"] * 100, 1)\n",
        "higher_ed_percentage"
      ],
      "execution_count":10,
      "outputs":[
        {
          "data":{
            "text\/plain":[
              "46.5"
            ]
          },
          "metadata":{
            
          },
          "output_type":"display_data"
        }
      ],
      "metadata":{
        "datalore":{
          "sheet_delimiter":false
        }
      }
    },
    {
      "cell_type":"markdown",
      "source":[
        "## Percentage of people without higher education with salary more than 50k"
      ],
      "attachments":{
        
      },
      "metadata":{
        "datalore":{
          "sheet_delimiter":false
        }
      }
    },
    {
      "cell_type":"code",
      "source":[
        "lower_education = ['HS-grad','11th','9th','Some-college','Assoc-acdm','Assoc-voc','7th-8th','Prof-school',\n",
        "                    '5th-6th','10th','1st-4th','Preschool','12th']\n",
        "\n",
        "lower_ed_percentage = round(data[data[\"education\"].isin(lower_education)][\"salary\"].value_counts(normalize=True)[\">50K\"] * 100, 1)\n",
        "lower_ed_percentage"
      ],
      "execution_count":11,
      "outputs":[
        {
          "data":{
            "text\/plain":[
              "17.4"
            ]
          },
          "metadata":{
            
          },
          "output_type":"display_data"
        }
      ],
      "metadata":{
        "datalore":{
          "sheet_delimiter":false
        }
      }
    },
    {
      "cell_type":"markdown",
      "source":[
        "## Minimum number of hours a person works in a week"
      ],
      "attachments":{
        
      },
      "metadata":{
        "datalore":{
          "sheet_delimiter":false
        }
      }
    },
    {
      "cell_type":"code",
      "source":[
        "minimum_hours = data[\"hours-per-week\"].min()\n",
        "minimum_hours"
      ],
      "execution_count":12,
      "outputs":[
        {
          "data":{
            "text\/plain":[
              "1"
            ]
          },
          "metadata":{
            
          },
          "output_type":"display_data"
        }
      ],
      "metadata":{
        "datalore":{
          "sheet_delimiter":false
        }
      }
    },
    {
      "cell_type":"markdown",
      "source":[
        "## Percentage of people who work minimum number of hours in a week with salary of more than 50k"
      ],
      "attachments":{
        
      },
      "metadata":{
        "datalore":{
          "sheet_delimiter":false
        }
      }
    },
    {
      "cell_type":"code",
      "source":[
        "num_min_workers = data[data[\"hours-per-week\"] == 1].shape[0]\n",
        "\n",
        "percentage_min_hours_per_week = data[data[\"hours-per-week\"] == 1].where(data[\"salary\"] == \">50K\").dropna().shape[0] \/ num_min_workers * 100\n",
        "percentage_min_hours_per_week"
      ],
      "execution_count":13,
      "outputs":[
        {
          "data":{
            "text\/plain":[
              "10.0"
            ]
          },
          "metadata":{
            
          },
          "output_type":"display_data"
        }
      ],
      "metadata":{
        "datalore":{
          "sheet_delimiter":false
        }
      }
    },
    {
      "cell_type":"markdown",
      "source":[
        "## Country with the highest percentage of people that earn >50K"
      ],
      "attachments":{
        
      },
      "metadata":{
        "datalore":{
          "sheet_delimiter":false
        }
      }
    },
    {
      "cell_type":"code",
      "source":[
        "highest_earning_country = data.groupby(\"native-country\")[\"salary\"].value_counts(normalize=True)[:, \">50K\"].sort_values(ascending=False).index[0]\n",
        "highest_earning_country_percentage = round(data.groupby(\"native-country\")[\"salary\"].value_counts(normalize=True)[:, \">50K\"].sort_values(ascending=False) * 100, 1)[0]\n",
        "\n",
        "print(f\"{highest_earning_country} : {highest_earning_country_percentage}\")"
      ],
      "execution_count":14,
      "outputs":[
        {
          "name":"stdout",
          "text":[
            "Iran : 41.9\n"
          ],
          "output_type":"stream"
        }
      ],
      "metadata":{
        "datalore":{
          "sheet_delimiter":false
        }
      }
    },
    {
      "cell_type":"markdown",
      "source":[
        "## Most popular occupation for those who earn >50K in India."
      ],
      "attachments":{
        
      },
      "metadata":{
        "datalore":{
          "sheet_delimiter":false
        }
      }
    },
    {
      "cell_type":"code",
      "source":[
        "top_IN_occupation = data[data[\"salary\"] == \">50K\"].where(data[\"native-country\"] == \"India\")[\"occupation\"].dropna().value_counts().index[0]\n",
        "top_IN_occupation"
      ],
      "execution_count":15,
      "outputs":[
        {
          "data":{
            "text\/plain":[
              "'Prof-specialty'"
            ]
          },
          "metadata":{
            
          },
          "output_type":"display_data"
        }
      ],
      "metadata":{
        "datalore":{
          "sheet_delimiter":false
        }
      }
    }
  ],
  "metadata":{
    
  },
  "nbformat":4,
  "nbformat_minor":0
}